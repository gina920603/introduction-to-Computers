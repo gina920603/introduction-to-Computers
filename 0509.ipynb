{
  "nbformat": 4,
  "nbformat_minor": 0,
  "metadata": {
    "colab": {
      "name": "0509.ipynb",
      "provenance": [],
      "authorship_tag": "ABX9TyOoG2QhuRhJUc5e/hhucRQF",
      "include_colab_link": true
    },
    "kernelspec": {
      "name": "python3",
      "display_name": "Python 3"
    },
    "language_info": {
      "name": "python"
    }
  },
  "cells": [
    {
      "cell_type": "markdown",
      "metadata": {
        "id": "view-in-github",
        "colab_type": "text"
      },
      "source": [
        "<a href=\"https://colab.research.google.com/github/gina920603/introduction-to-Computers/blob/main/0509.ipynb\" target=\"_parent\"><img src=\"https://colab.research.google.com/assets/colab-badge.svg\" alt=\"Open In Colab\"/></a>"
      ]
    },
    {
      "cell_type": "code",
      "execution_count": 6,
      "metadata": {
        "colab": {
          "base_uri": "https://localhost:8080/"
        },
        "id": "jzbDjOkl2FEE",
        "outputId": "ac8f253e-53b4-4c3c-de09-acf07d74d93d"
      },
      "outputs": [
        {
          "output_type": "stream",
          "name": "stdout",
          "text": [
            "請輸入你的體溫34.7\n",
            "體溫正常\n"
          ]
        }
      ],
      "source": [
        "temp=float(input('請輸入你的體溫'))\n",
        "if temp>=37.5:\n",
        "  print('體溫過高')\n",
        "elif temp>=37 and temp<=37.4:\n",
        "  print('體溫略高')\n",
        "elif temp>=34 and temp<=36.0:\n",
        "  print('體溫正常')\n",
        "else:\n",
        "  print('體溫異常，請重新量測')"
      ]
    },
    {
      "cell_type": "code",
      "source": [
        "a=int(input('請輸入你的成績'))\n",
        "if a>=90:\n",
        "  print('A')\n",
        "elif a>=80 and a<90:\n",
        "  print('B')\n",
        "elif a>=70 and a<80:\n",
        "  print('C')\n",
        "elif a>=60 and a<70:\n",
        "  print('D')\n",
        "else:\n",
        "  print('E')"
      ],
      "metadata": {
        "colab": {
          "base_uri": "https://localhost:8080/"
        },
        "id": "aPSa1q1K-Ovf",
        "outputId": "ba89f689-f1e1-4963-e579-c2ed6a1fed86"
      },
      "execution_count": 12,
      "outputs": [
        {
          "output_type": "stream",
          "name": "stdout",
          "text": [
            "請輸入你的成績60\n",
            "D\n"
          ]
        }
      ]
    },
    {
      "cell_type": "code",
      "source": [
        "money=int(input('請輸入購物金額'))\n",
        "if (money>=10000):\n",
        "  if (money>=100000):\n",
        "    print('八折',money*0.8,end='元\\n')\n",
        "  elif (money>=50000 and money<100000):\n",
        "    print('八五折',money*0.85,end='元\\n')\n",
        "  elif (money>=30000 and money<50000):\n",
        "    print('九折',money*0.9,end='元\\n')\n",
        "  elif (money>=10000 and money<30000):\n",
        "    print('九五折',money*0.95,end='元\\n')\n",
        "else:\n",
        "  print('未打折',money,end='元\\n')"
      ],
      "metadata": {
        "colab": {
          "base_uri": "https://localhost:8080/"
        },
        "id": "-4eAGSHPAtm_",
        "outputId": "359d1f22-ca81-43a3-ab15-6b108b9c1315"
      },
      "execution_count": 19,
      "outputs": [
        {
          "output_type": "stream",
          "name": "stdout",
          "text": [
            "請輸入購物金額4000\n",
            "未打折 4000元\n"
          ]
        }
      ]
    },
    {
      "cell_type": "code",
      "source": [
        "b=int(input('請輸入月份'))\n",
        "if b>=3 and b<=5:\n",
        "  print(b,'月是春天')\n",
        "elif b>=6 and b<=8:\n",
        "  print(b,'月是夏天')\n",
        "elif b>=9 and b<=11:\n",
        "  print(b,'月是秋天')\n",
        "elif b==12 or b==1 or b==2:\n",
        "  print(b,'月是冬天')\n",
        "else:\n",
        "  print('月份不再範圍內')"
      ],
      "metadata": {
        "colab": {
          "base_uri": "https://localhost:8080/"
        },
        "id": "7W6_j1pIHEIV",
        "outputId": "5e1ae7d5-d743-487b-8a24-73cc3d978e74"
      },
      "execution_count": 25,
      "outputs": [
        {
          "output_type": "stream",
          "name": "stdout",
          "text": [
            "請輸入月份21\n",
            "月份不再範圍內\n"
          ]
        }
      ]
    },
    {
      "cell_type": "code",
      "source": [
        "c=int(input('請輸入今年收入淨額'))\n",
        "if c>=2000000:\n",
        "  print('付稅金額:',c*0.3,'元')\n",
        "elif c>=1000000 and c<2000000:\n",
        "  print('付稅金額:',c*0.21,'元')\n",
        "elif c>=600000 and c<1000000:\n",
        "  print('付稅金額:',c*0.13,'元')\n",
        "elif c>=300000 and c<600000:\n",
        "   print('付稅金額:',c*0.06,'元')\n",
        "else:\n",
        "  print('付稅金額:0元')"
      ],
      "metadata": {
        "colab": {
          "base_uri": "https://localhost:8080/"
        },
        "id": "agdbzUniI0Np",
        "outputId": "403adf3d-992c-45a2-b574-c7e6e8596534"
      },
      "execution_count": 28,
      "outputs": [
        {
          "output_type": "stream",
          "name": "stdout",
          "text": [
            "請輸入今年收入淨額2000\n",
            "付稅金額:0元\n"
          ]
        }
      ]
    }
  ]
}